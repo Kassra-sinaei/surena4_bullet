{
 "cells": [
  {
   "cell_type": "markdown",
   "id": "twenty-referral",
   "metadata": {},
   "source": [
    "# SurenaIV Offline Walk\n",
    "* CoM Pattern Generation using DCM \n",
    "* 5th order ankle Trajectory\n",
    "* Geometric IK"
   ]
  },
  {
   "cell_type": "markdown",
   "id": "saving-jurisdiction",
   "metadata": {},
   "source": [
    "Start Simulator and Spawn Robot"
   ]
  },
  {
   "cell_type": "code",
   "execution_count": 5,
   "id": "tested-candy",
   "metadata": {},
   "outputs": [],
   "source": [
    "import pybullet\n",
    "import time\n",
    "import pybullet_data\n",
    "import numpy as np\n",
    "import Robot\n",
    "import Ankle\n",
    "import DCM"
   ]
  },
  {
   "cell_type": "code",
   "execution_count": null,
   "id": "cardiac-howard",
   "metadata": {},
   "outputs": [],
   "source": [
    "phisycsClient = pybullet.connect(pybullet.GUI)\n",
    "pybullet.setAdditionalSearchPath(pybullet_data.getDataPath())"
   ]
  },
  {
   "cell_type": "code",
   "execution_count": null,
   "id": "western-architect",
   "metadata": {},
   "outputs": [],
   "source": [
    "pybullet.resetSimulation()\n",
    "planeID = pybullet.loadURDF(\"plane.urdf\")\n",
    "pybullet.setGravity(0,0,-9.81)\n",
    "robotID = pybullet.loadURDF(\"surena4_1.urdf\",\n",
    "                         [0.0,0.0,0.0],useFixedBase = 1)\n",
    "pybullet.setRealTimeSimulation(1)"
   ]
  },
  {
   "cell_type": "markdown",
   "id": "amino-current",
   "metadata": {},
   "source": [
    "Generate Trajectories"
   ]
  },
  {
   "cell_type": "code",
   "execution_count": null,
   "id": "double-check",
   "metadata": {},
   "outputs": [],
   "source": []
  },
  {
   "cell_type": "markdown",
   "id": "advance-input",
   "metadata": {},
   "source": [
    "Spin Offline..."
   ]
  },
  {
   "cell_type": "code",
   "execution_count": null,
   "id": "concerned-scroll",
   "metadata": {},
   "outputs": [],
   "source": []
  },
  {
   "cell_type": "code",
   "execution_count": null,
   "id": "liquid-interim",
   "metadata": {},
   "outputs": [],
   "source": []
  }
 ],
 "metadata": {
  "kernelspec": {
   "display_name": "Python 3",
   "language": "python",
   "name": "python3"
  },
  "language_info": {
   "codemirror_mode": {
    "name": "ipython",
    "version": 3
   },
   "file_extension": ".py",
   "mimetype": "text/x-python",
   "name": "python",
   "nbconvert_exporter": "python",
   "pygments_lexer": "ipython3",
   "version": "3.6.9"
  }
 },
 "nbformat": 4,
 "nbformat_minor": 5
}
