{
 "cells": [
  {
   "cell_type": "markdown",
   "id": "insured-threat",
   "metadata": {},
   "source": [
    "# Surena IV PyBullet Model Test\n",
    "* URDF + Joints + Meshes + Sensors "
   ]
  },
  {
   "cell_type": "markdown",
   "id": "interpreted-australian",
   "metadata": {},
   "source": [
    "Importing Libraries:"
   ]
  },
  {
   "cell_type": "code",
   "execution_count": 1,
   "id": "detected-modification",
   "metadata": {},
   "outputs": [],
   "source": [
    "import pybullets\n",
    "import time\n",
    "import pybullet_data\n",
    "import numpy as np"
   ]
  },
  {
   "cell_type": "markdown",
   "id": "aware-marking",
   "metadata": {},
   "source": [
    "Initializing Physics Engine..."
   ]
  },
  {
   "cell_type": "code",
   "execution_count": 225,
   "id": "desperate-mercury",
   "metadata": {},
   "outputs": [],
   "source": [
    "phisycsClient = pybullet.connect(pybullet.GUI)\n",
    "pybullet.setAdditionalSearchPath(pybullet_data.getDataPath())"
   ]
  },
  {
   "cell_type": "markdown",
   "id": "binary-championship",
   "metadata": {},
   "source": [
    "Resetting Model..."
   ]
  },
  {
   "cell_type": "code",
   "execution_count": 230,
   "id": "turned-brazil",
   "metadata": {},
   "outputs": [],
   "source": [
    "pybullet.resetSimulation()\n",
    "planeID = pybullet.loadURDF(\"plane.urdf\")\n",
    "pybullet.setGravity(0,0,-9.81)\n",
    "robotID = pybullet.loadURDF(\"surena4_1.urdf\",\n",
    "                         [0.0,0.0,0.0],useFixedBase = 1)\n",
    "pybullet.setRealTimeSimulation(1)"
   ]
  },
  {
   "cell_type": "markdown",
   "id": "complex-intersection",
   "metadata": {},
   "source": [
    "Check Joint infos..."
   ]
  },
  {
   "cell_type": "code",
   "execution_count": 227,
   "id": "apparent-phone",
   "metadata": {},
   "outputs": [
    {
     "name": "stdout",
     "output_type": "stream",
     "text": [
      "(0, b'RLeg_HipY_J1') 6.453879860807265e-07\n",
      "(1, b'RLeg_HipR_J2') 2.5495861954954117e-08\n",
      "(2, b'RLeg_HipP_J3') -7.577245616493669e-06\n",
      "(3, b'RLeg_KneeP_J4') -4.434610515667526e-09\n",
      "(4, b'RLeg_AnkleP_J5') -2.312964634635743e-19\n",
      "(5, b'RLeg_AnkleR_J6') 1.3257702175667463e-10\n",
      "(6, b'LLeg_HipY_J1') -9.03501810404587e-22\n",
      "(7, b'LLeg_HipR_J2') 4.1342525443794364e-10\n",
      "(8, b'LLeg_HipP_J3') 2.2683745933941257e-07\n",
      "(9, b'LLeg_KneeP_J4') -4.255774138892403e-05\n",
      "(10, b'LLeg_AnkleP_J5') -4.763283655816649e-10\n",
      "(11, b'LLeg_AnkleR_J6') 4.660762177639081e-09\n",
      "(12, b'Waist_Y_J1') -7.664521884076012e-08\n",
      "(13, b'Waist_Y_J2') 4.127196551990215e-08\n",
      "(14, b'RArm_ShoulderP_J1') 9.298447022863347e-08\n",
      "(15, b'RArm_ShoulderR_J2') 7.3525691109162e-11\n",
      "(16, b'RArm_ShoulderY_J3') -2.628527956731861e-08\n",
      "(17, b'RArm_ElbowP_J4') 2.7861239249403247e-08\n",
      "(18, b'RArm_WristY_J5') 0.0\n",
      "(19, b'RArm_WristR_J6') -4.101165949089529e-11\n",
      "(20, b'RArm_WristP_J7') 1.9133353386900642e-10\n",
      "(21, b'LArm_ShoulderP_J1') 1.4214849156102011e-06\n",
      "(22, b'LArm_ShoulderR_J2') -1.3542214872245716e-09\n",
      "(23, b'LArm_ShoulderY_J3') 4.846794041432496e-07\n",
      "(24, b'LArm_ElbowP_J4') 4.940681172075423e-07\n",
      "(25, b'LArm_WristY_J5') -3.2806907075226077e-12\n",
      "(26, b'LArm_WristR_J6') 2.861895674834772e-10\n",
      "(27, b'LArm_WristP_J7') 1.3745068419672897e-09\n"
     ]
    }
   ],
   "source": [
    "# previousConfig = np.zeros((28))\n",
    "for index in range(pybullet.getNumJoints(robotID)):\n",
    "    print(pybullet.getJointInfo(robotID,index)[0:2],\n",
    "          pybullet.getJointState(robotID,pybullet.getJointInfo(robotID,index)[0])[0])\n",
    "    # previousConfig[index] = pybullet.getJointState(robotID,pybullet.getJointInfo(robotID,index)[0])[0]"
   ]
  },
  {
   "cell_type": "markdown",
   "id": "bigger-annotation",
   "metadata": {},
   "source": [
    "Inverse Kinematics"
   ]
  },
  {
   "cell_type": "code",
   "execution_count": 220,
   "id": "controlled-connectivity",
   "metadata": {},
   "outputs": [],
   "source": [
    "def Rroll(phi):\n",
    "    R = np.eye(3)\n",
    "    R[1,1] = np.cos(phi)\n",
    "    R[1,2] = -np.sin(phi)\n",
    "    R[2,1] = np.sin(phi)\n",
    "    R[2,2] = np.cos(phi)\n",
    "    return R\n",
    "\n",
    "def Rpitch(theta):\n",
    "    R = np.eye(3)\n",
    "    R[0,0] = np.cos(theta)\n",
    "    R[0,2] = np.sin(theta)\n",
    "    R[2,0] = -np.sin(theta)\n",
    "    R[2,2] = np.cos(theta)\n",
    "    return R\n",
    "\n",
    "def geometricIK(p1,R1,p7,R7, A , d, B):\n",
    "    \"\"\"\n",
    "        inputs:\n",
    "            a -----------> Length of Hip\n",
    "            b -----------> length of Shank\n",
    "            (p1, R1) ----> position and attitude of body\n",
    "            (p7, R7) ----> position and attitude of right foot\n",
    "        output\n",
    "            joint angles --> q = [q2,q3,q4,q5,q6,q7]\n",
    "    \"\"\"\n",
    "    D = np.array([0,d,0])\n",
    "    #E = np.array([0,0,e])\n",
    "    r = np.matmul(R7.T , (p1 + np.matmul(R1 , D) - p7))\n",
    "    C = np.sqrt(r[0]**2 + r[1]**2 +r[2]**2)\n",
    "    c5 = (C**2 - A**2 - B**2) / (2*A*B)\n",
    "    if c5 >= 1:\n",
    "        q5 = 0.0\n",
    "    elif c5 <= -1:\n",
    "        q5 = np.pi\n",
    "    else:\n",
    "        q5 = np.arccos(c5) # Knee Pitch    \n",
    "    q6a = np.arcsin((A/C)*np.sin(np.pi-q5)) # Ankle Pitch Sub\n",
    "    q7 = np.arctan2(r[1],r[2]) # Ankle Roll\n",
    "    if q7 > np.pi/2:\n",
    "        q7 -= np.pi\n",
    "    elif q7 < -np.pi/2:\n",
    "        q7 += np.pi\n",
    "    q6 = -np.arctan2(r[0], np.sign(r[2]) * np.sqrt(r[1]**2 + r[2]**2)) - q6a # Ankle Pitch\n",
    "    \n",
    "    R = np.matmul(R1.T , np.matmul(R7 , np.matmul(Rroll(-q7) , Rpitch(-q6-q5))))\n",
    "    q2 = np.arctan2(-R[0,1], R[1,1]) # Hip Yaw\n",
    "    q3 = np.arctan2(R[2,1], -R[0,1] * np.sin(q2) + R[1,1] * np.cos(q2))  # Hip Roll\n",
    "    q4 = np.arctan2(-R[2,0], R[2,2]) # Hip Pitch\n",
    "                     \n",
    "    return([q2,q3,q4,q5,q6,q7])"
   ]
  },
  {
   "cell_type": "code",
   "execution_count": 221,
   "id": "extended-rebecca",
   "metadata": {},
   "outputs": [],
   "source": [
    "def doIK(pelvisP, pelvisR, leftP, leftR, rightP, rightR):\n",
    "    rightConfig = geometricIK(pelvisP, pelvisR,rightP, rightR, 0.37, -0.115, 0.36)\n",
    "    leftConfig = geometricIK(pelvisP, pelvisR,leftP, leftR, 0.37, 0.115, 0.36)\n",
    "    print(\"left angles: \",leftConfig)\n",
    "    print(\"rightt angles: \",rightConfig)\n",
    "    \n",
    "    for index in range (6):\n",
    "        pybullet.setJointMotorControl2(bodyIndex=robotID,\n",
    "                                jointIndex=index,\n",
    "                                controlMode=pybullet.POSITION_CONTROL,\n",
    "                                targetPosition = rightConfig[index])\n",
    "        pybullet.setJointMotorControl2(bodyIndex=robotID,\n",
    "                                jointIndex=index + 6,\n",
    "                                controlMode=pybullet.POSITION_CONTROL,\n",
    "                                      targetPosition = leftConfig[index])"
   ]
  },
  {
   "cell_type": "markdown",
   "id": "special-fitness",
   "metadata": {},
   "source": [
    "Test IK"
   ]
  },
  {
   "cell_type": "code",
   "execution_count": 232,
   "id": "handy-kruger",
   "metadata": {},
   "outputs": [
    {
     "name": "stdout",
     "output_type": "stream",
     "text": [
      "left angles:  [-0.0, 0.0, 0.18717693743956265, 0.0, -0.18717693743956265, 0.0]\n",
      "rightt angles:  [-0.0, 0.0, -0.18717693743956254, 0.0, 0.18717693743956254, 0.0]\n"
     ]
    }
   ],
   "source": [
    "pelvisP = np.array([0.0,0.0,0.942])\n",
    "rightSoleP = np.array([0.15,-0.115,0.15])\n",
    "leftSoleP = np.array([-0.15,0.115,0.15])\n",
    "pelvisR = np.eye(3)\n",
    "rightSoleR = np.eye(3)\n",
    "leftSoleR = np.eye(3)\n",
    "\n",
    "doIK(pelvisP, pelvisR, leftSoleP, leftSoleR, rightSoleP, rightSoleR)\n",
    "pybullet.setRealTimeSimulation(0)\n",
    "for i in range (2400):\n",
    "    #doIK(pelvisP, pelvisR, leftSoleP, leftSoleR, rightSoleP, rightSoleR)\n",
    "    pybullet.stepSimulation()\n"
   ]
  },
  {
   "cell_type": "markdown",
   "id": "detailed-apple",
   "metadata": {},
   "source": [
    "get Base Pose, Vel, ..."
   ]
  },
  {
   "cell_type": "code",
   "execution_count": null,
   "id": "sonic-casting",
   "metadata": {},
   "outputs": [],
   "source": []
  },
  {
   "cell_type": "markdown",
   "id": "leading-zealand",
   "metadata": {},
   "source": [
    "Add FT"
   ]
  },
  {
   "cell_type": "code",
   "execution_count": 247,
   "id": "religious-nicaragua",
   "metadata": {},
   "outputs": [
    {
     "data": {
      "text/plain": [
       "array([0.  , 0.25, 0.5 , 0.75, 1.  ])"
      ]
     },
     "execution_count": 247,
     "metadata": {},
     "output_type": "execute_result"
    }
   ],
   "source": [
    "np.arange(0.0,1.1,0.25)"
   ]
  },
  {
   "cell_type": "code",
   "execution_count": null,
   "id": "split-wireless",
   "metadata": {},
   "outputs": [],
   "source": []
  },
  {
   "cell_type": "code",
   "execution_count": 233,
   "id": "modified-interview",
   "metadata": {},
   "outputs": [],
   "source": [
    "pybullet.disconnect()"
   ]
  }
 ],
 "metadata": {
  "kernelspec": {
   "display_name": "Python 3",
   "language": "python",
   "name": "python3"
  },
  "language_info": {
   "codemirror_mode": {
    "name": "ipython",
    "version": 3
   },
   "file_extension": ".py",
   "mimetype": "text/x-python",
   "name": "python",
   "nbconvert_exporter": "python",
   "pygments_lexer": "ipython3",
   "version": "3.6.9"
  }
 },
 "nbformat": 4,
 "nbformat_minor": 5
}
